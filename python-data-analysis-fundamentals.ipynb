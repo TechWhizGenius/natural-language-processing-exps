{
  "cells": [
    {
      "cell_type": "markdown",
      "metadata": {
        "id": "view-in-github",
        "colab_type": "text"
      },
      "source": [
        "<a href=\"https://colab.research.google.com/github/TechWhizGenius/Teja_INFO5731_Fall2024/blob/main/Mandaloju_Teja_Assignment_01.ipynb\" target=\"_parent\"><img src=\"https://colab.research.google.com/assets/colab-badge.svg\" alt=\"Open In Colab\"/></a>"
      ]
    },
    {
      "cell_type": "markdown",
      "metadata": {
        "id": "Ryk8D1Q4Wsrp"
      },
      "source": [
        "# **INFO5731 Assignment One**"
      ]
    },
    {
      "cell_type": "markdown",
      "source": [
        "This assignment includes range of programming tasks and data analysis exercises, aiming to enhance your Python skills and proficiency in string manipulation, numerical computations, and data science. Follow the instructions carefully and design well-structured Python programs to address each question.\n",
        "\n",
        "Late Submission will have a penalty of 10% reduction for each day after the deadline."
      ],
      "metadata": {
        "id": "qcP6re2g5A5r"
      }
    },
    {
      "cell_type": "markdown",
      "metadata": {
        "id": "JkzR8cFAyGik"
      },
      "source": [
        "# Question 1 (10 points).\n",
        "\n",
        "The formula that describes the volume V of a hemisphere with radius r is the following:\n",
        "\n",
        "$ V=\\frac{2}{3}\\ast\\ \\pi\\ast\\ r^3 $\n",
        "\n",
        "Write a program to calculate the value of V when r is in the range of even numbers from 1-20. Output the result in the following format:\n",
        "\n",
        "\tr\tV\n",
        "\t2\t…\n",
        "\t4\t…\n",
        "\t6\t…\n",
        "\t.\n",
        "\t.\n",
        "\t.\n",
        "\t20\t…\n"
      ]
    },
    {
      "cell_type": "code",
      "execution_count": null,
      "metadata": {
        "id": "jDyTKYs-yGit",
        "colab": {
          "base_uri": "https://localhost:8080/"
        },
        "outputId": "1abf6d87-a432-4cba-c37d-b2171cb6d5f4"
      },
      "outputs": [
        {
          "output_type": "stream",
          "name": "stdout",
          "text": [
            "r\tV\n",
            "2 \t 16.76\n",
            "4 \t 134.04\n",
            "6 \t 452.39\n",
            "8 \t 1072.33\n",
            "10 \t 2094.4\n",
            "12 \t 3619.11\n",
            "14 \t 5747.02\n",
            "16 \t 8578.64\n",
            "18 \t 12214.51\n",
            "20 \t 16755.16\n"
          ]
        }
      ],
      "source": [
        "# Importing math library to use pi of math module\n",
        "import math\n",
        "\n",
        "# Defining radius. radius here is the range of even numbers from 1-20\n",
        "radius = list(range(2,21,2))\n",
        "\n",
        "# Printing the header\n",
        "print(\"r\\tV\")\n",
        "\n",
        "# Calculating the volume of the hemisphere with the given formula\n",
        "# Here, the final result, Volume is rounded off to two decimals using round method\n",
        "for i in radius:\n",
        "  V = (2/3)*math.pi*(i**3)\n",
        "  print(i,\"\\t\",round(V,2))\n",
        "\n"
      ]
    },
    {
      "cell_type": "markdown",
      "metadata": {
        "id": "90_NR8c5XGWc"
      },
      "source": [
        "# Question 2 (20 points)\n",
        "\n",
        "(a) Write a Python program to generate a sequence of 12 random numbers falling within the range of 50 to 150.\n",
        "\n",
        "(b) Arrange the generated numbers in ascending order. Display the sorted list.\n",
        "\n",
        "(c) Extend the program to arrange the numbers in descending order as well. Present the sorted list accordingly.\n",
        "\n",
        "(d) Compute and output the average of the entire group of generated numbers.\n",
        "\n",
        "(e) Enhance the program to calculate and display the average of the first 6 numbers from both the ascending and descending sorted lists."
      ]
    },
    {
      "cell_type": "code",
      "execution_count": null,
      "metadata": {
        "id": "5QX6bJjGWXY9",
        "colab": {
          "base_uri": "https://localhost:8080/"
        },
        "outputId": "fb5277a4-e468-436c-a387-31599868bd65"
      },
      "outputs": [
        {
          "output_type": "stream",
          "name": "stdout",
          "text": [
            "[111, 84, 95, 53, 64, 77, 88, 94, 63, 128, 75, 93]\n",
            "[53, 63, 64, 75, 77, 84, 88, 93, 94, 95, 111, 128]\n",
            "[128, 111, 95, 94, 93, 88, 84, 77, 75, 64, 63, 53]\n",
            "The average of the random numbers generated is 85.42\n",
            "The average of first six numbers from ascending order is 69.33\n",
            "The average of first six numbers from descending order is 101.5\n"
          ]
        }
      ],
      "source": [
        "# Importing module\n",
        "import random\n",
        "\n",
        "# a)\n",
        "# using random.sample() to generate the random numbers\n",
        "random_numbers = random.sample(range(50,150), 12)\n",
        "print(random_numbers)\n",
        "\n",
        "# b)\n",
        "# Sorting the random numbers generated in ascending order using sort().\n",
        "# By default, sort() does sorting in ascending order\n",
        "random_numbers.sort()\n",
        "A_order = random_numbers.copy()          # copying the list to store it separately rather than pointing out\n",
        "print(A_order)\n",
        "\n",
        "# c)\n",
        "# Sorting the random numbers generated in descending order using sort()\n",
        "# reverse = True is used to do the sorting in descedning order\n",
        "random_numbers.sort(reverse = True)\n",
        "D_order = random_numbers\n",
        "print(D_order)\n",
        "\n",
        "# d)\n",
        "# Calculating the average of the entire group of generated random numbers\n",
        "# using sum() and len() to calculate the average\n",
        "print('The average of the random numbers generated is', round(sum(random_numbers)/len(random_numbers),2))\n",
        "\n",
        "\n",
        "\n",
        "# e)Calculating the average of first six numbers from both the orders\n",
        "\n",
        "print('The average of first six numbers from ascending order is', round(sum(A_order[:6])/len(A_order[:6]),2))\n",
        "print('The average of first six numbers from descending order is', round(sum(D_order[:6])/len(D_order[:6]),2))\n"
      ]
    },
    {
      "cell_type": "markdown",
      "metadata": {
        "id": "1F_PZdH9Sh49"
      },
      "source": [
        "# Question 3 (20 points).\n",
        "\n",
        "Create a Python program that encompasses various string manipulation task:\n",
        "\n",
        "(a) Prompt the user to input two sentences.\n",
        "\n",
        "(b) Transform each sentence into a list, where each element corresponds to a word in the sentence. For example, if the sentences are \"Hello, how are you doing today?\" and \"This is an example sentence for the program!\"\n",
        "\n",
        "The program should output:\n",
        "['Hello', ',', 'how', 'are', 'you', 'doing', 'today', '?', 'This', 'is', 'an', 'example', 'sentence', 'for', 'the', 'program', '!']\n",
        "\n",
        "(c) Compare the two sentences. Print out a list of words that occur in both sentences.\n",
        "\n",
        "(d) Remove any punctuation from the sentence and print the sanitized sentences. It should remove at least the following characters, but it can remove more: period(“.”), comma (“,”), semicolon (“;”), and colon (“:”).\n",
        "\n",
        "(e) Count the number of vowels in each of the sentences. Print out each vowel and the occurrences  in the each of the two sentences separately, such as:\n",
        "\n",
        "Sentence1: a:2, e:2, i:0, etc.\n",
        "Sentence2: a:1, e:2, i:2, etc.\n",
        "\n",
        "Design a well-structured Python program to execute these tasks efficiently."
      ]
    },
    {
      "cell_type": "code",
      "execution_count": null,
      "metadata": {
        "id": "Y0oOSlsOS0cq",
        "colab": {
          "base_uri": "https://localhost:8080/"
        },
        "outputId": "92bbe40a-e31d-4b7a-ccd8-4b8b8ce5ddc0"
      },
      "outputs": [
        {
          "output_type": "stream",
          "name": "stdout",
          "text": [
            "Enter the first sentence: Hello, How are you doing?\n",
            "Enter the second sentence: Hello, I am  doing good.\n",
            "['Hello', ',', 'How', 'are', 'you', 'doing', '?']\n",
            "['Hello', ',', 'I', 'am', 'doing', 'good', '.']\n",
            "List of elements that occur in both lists are ['Hello', ',', 'doing']\n",
            "The sanitized sentences after removing punctuation marks are ...\n",
            "Hello How are you doing\n",
            "Hello I am doing good\n",
            "Vowels in Sentence 01: {'a': 1, 'e': 2, 'i': 1, 'o': 4, 'u': 1, 'A': 0, 'E': 0, 'I': 0, 'O': 0, 'U': 0}\n",
            "Vowels in Sentence 02: {'a': 1, 'e': 1, 'i': 1, 'o': 4, 'u': 0, 'A': 0, 'E': 0, 'I': 1, 'O': 0, 'U': 0}\n"
          ]
        }
      ],
      "source": [
        "# importing string module to complete this task\n",
        "import string\n",
        "\n",
        "# a)\n",
        "# Taking two sentences as inputs from the user\n",
        "\n",
        "s1 = input(\"Enter the first sentence: \")\n",
        "s2 = input(\"Enter the second sentence: \")\n",
        "\n",
        "# b)\n",
        "# Defining a seperate function to transform each sentence into a list\n",
        "\n",
        "def sent_to_list(text):\n",
        "  parts = []                                            # Defining parts to store final required output\n",
        "  start = 0                                             # Initializing start with 0 for looping\n",
        "\n",
        "  for i, char in enumerate(text):                       # enumerate() is used to iterate over a sequence and keeping track of the index\n",
        "      if char in string.punctuation or char.isspace():  # checking if character in string is a punctuation or space\n",
        "          if start < i:\n",
        "              parts.append(text[start:i])\n",
        "          if char != ' ':                               # with this condition, we are excluding white spaces in the final output\n",
        "              parts.append(char)\n",
        "          start = i + 1\n",
        "\n",
        "  if start < len(text):                                 # Adding the last part of the sentence if there is any\n",
        "      parts.append(text[start:])\n",
        "  return parts\n",
        "\n",
        "list1 = sent_to_list(s1)\n",
        "list2 = sent_to_list(s2)\n",
        "print(list1)\n",
        "print(list2)\n",
        "\n",
        "\n",
        "# c)\n",
        "# using for loop and if-condition to compare and print the words that occur in both lists\n",
        "common_words = []\n",
        "for i in list1:\n",
        "  if i in list2:\n",
        "    common_words.append(i)\n",
        "print(f'List of elements that occur in both lists are {common_words}')\n",
        "\n",
        "\n",
        "\n",
        "# d)\n",
        "# Removing punctuation marks by comparing the list elements with string.punctuation\n",
        "\n",
        "for i in list1:\n",
        "  if i in string.punctuation:\n",
        "    list1.remove(i)\n",
        "\n",
        "for i in list2:\n",
        "  if i in string.punctuation:\n",
        "    list2.remove(i)\n",
        "\n",
        "sen01 = ' '.join(list1)\n",
        "sen02 = ' '.join(list2)\n",
        "print('The sanitized sentences after removing punctuation marks are ...')\n",
        "print(sen01)\n",
        "print(sen02)\n",
        "\n",
        "# e)\n",
        "# Counting the number of vowels in each of the sentences given as input\n",
        "\n",
        "def vowel_in_sen(sen):\n",
        "  vowels = 'aeiouAEIOU'\n",
        "\n",
        "  vowels_dict = {'a':0, 'e':0, 'i':0, 'o':0, 'u':0, 'A':0,'E':0,'I':0,'O':0,'U':0}\n",
        "\n",
        "\n",
        "  for i, char in enumerate(sen):\n",
        "    #print(i, char)\n",
        "\n",
        "    if char in vowels:\n",
        "      vowels_dict[char] += 1\n",
        "\n",
        "  return vowels_dict\n",
        "\n",
        "print(f'Vowels in Sentence 01: {vowel_in_sen(s1)}')\n",
        "print(f'Vowels in Sentence 02: {vowel_in_sen(s2)}')\n",
        "\n",
        "\n",
        "\n"
      ]
    },
    {
      "cell_type": "markdown",
      "source": [
        "# Question 4 (20 Points)"
      ],
      "metadata": {
        "id": "OP4-5qxAtInv"
      }
    },
    {
      "cell_type": "markdown",
      "source": [
        "Design and implement a simple command-line calculator program. The program should handle both integers and floating-point numbers.\n",
        "\n",
        "(a) Write program that takes a mathematical expression as input and evaluates it. The program should support addition, subtraction, multiplication, and division.\n",
        "\n",
        "(b) Extend the calculator to handle parentheses in mathematical expressions. Implement the necessary logic to evaluate expressions with nested parentheses.\n",
        "\n",
        "(c) Enhance your calculator to include additional mathematical operations such as exponentiation, square root, and modulus.\n",
        "\n",
        "(d) Implement error handling in the calculator program. Handle cases such as division by zero and invalid input expressions. Provide meaningful error messages.\n",
        "\n",
        "(e) Implement a command to exit the calculator."
      ],
      "metadata": {
        "id": "uzN4_hDptK9U"
      }
    },
    {
      "cell_type": "code",
      "source": [
        "import re                                                                     # importing regular expression module\n",
        "import math                                                                   # importing math to enhance the calculator\n",
        "\n",
        "# a) & b) & c) & d)\n",
        "# Program that takes a mathematical expression as an input and evaluates it.\n",
        "# using eval() - can handle addition, subtraction, multiplication, and division\n",
        "# Also handles floating-point numbers, parenthesis, nested parenthesis, modulus\n",
        "\n",
        "\n",
        "def eval_exp(expression):\n",
        "    try:                                                                      # using try and except blocks to handle errors\n",
        "        expression = expression.replace('^', '**')                            # Enhancing calculator to calculate exponential values\n",
        "        expression = re.sub(r'sqrt\\((.*?)\\)', r'math.sqrt(\\1)', expression)   # Enhancing calculator to calculate square root values\n",
        "        output = eval(expression)                                             # using eval() to evaluate mathematical expression provided as a string\n",
        "        return output\n",
        "    except Exception as e:\n",
        "        return f\"Error: {e}\"\n",
        "\n",
        "\n",
        "\n",
        "# e)\n",
        "# Implementing command line feature to the calculator\n",
        "\n",
        "print(\"Welcome to the calculator!\")\n",
        "print(\"Enter 'exit' to quit the calculator.\")\n",
        "print('use sqrt() to calculate square root')\n",
        "print('use ^ to calculate exponential values')\n",
        "\n",
        "while True:\n",
        "    Input = input(\"Enter a mathematical expression: \")\n",
        "    cleaned_input = re.sub(r'[^\\d\\+\\-\\*/\\(\\)\\.\\s]', '', Input)                # using regular expression to remove invalid characters\n",
        "    if Input.lower() == 'exit':                                               # Implementing the logic exit to quit the calculator\n",
        "        break\n",
        "    print(\"Result:\", eval_exp(Input))\n",
        "\n"
      ],
      "metadata": {
        "id": "8nQnVxjJuYtu",
        "colab": {
          "base_uri": "https://localhost:8080/"
        },
        "outputId": "cf6fd2c5-3fa1-4748-adcb-af1da11f9e6f"
      },
      "execution_count": null,
      "outputs": [
        {
          "name": "stdout",
          "output_type": "stream",
          "text": [
            "Welcome to the calculator!\n",
            "Enter 'exit' to quit the calculator.\n",
            "use sqrt() to calculate square root\n",
            "use ^ to calculate exponential values\n",
            "Enter a mathematical expression: (2+4-10(45/5)*10)\n"
          ]
        },
        {
          "output_type": "stream",
          "name": "stderr",
          "text": [
            "<string>:1: SyntaxWarning: 'int' object is not callable; perhaps you missed a comma?\n"
          ]
        },
        {
          "name": "stdout",
          "output_type": "stream",
          "text": [
            "Result: Error: 'int' object is not callable\n",
            "Enter a mathematical expression: 2+4-10+(45/5)*10\n",
            "Result: 86.0\n",
            "Enter a mathematical expression: sqrt(25)\n",
            "Result: 5.0\n",
            "Enter a mathematical expression: 7^2\n",
            "Result: 49\n",
            "Enter a mathematical expression: 69/0\n",
            "Result: Error: division by zero\n",
            "Enter a mathematical expression: 23%2\n",
            "Result: 1\n",
            "Enter a mathematical expression: exit\n"
          ]
        }
      ]
    },
    {
      "cell_type": "markdown",
      "metadata": {
        "id": "z3tBE7E-Xn5X"
      },
      "source": [
        "# Question 5 (30 points).\n",
        "\n",
        "In the field of Data Science, data is often formatted as a comma-delimited (CSV) file, where each line in a file corresponds to a field's value. Refer to Chapter 9 (p. 106) for more information on comma-delimited files.\n",
        "\n",
        "To answer this question, you will need to download the file [Assignment1_denton_housing.csv](https://raw.githubusercontent.com/unt-iialab/info5731-spring2022/main/assignments/Assignment1_denton_housing.csv) included with this assignment. The file contains statistics about housing in the city of Denton from 2008 to 2014. Write a program to implement the following questions.\n",
        "\n",
        "(a) (5 pts) Calculate the difference in the number of Occupied Housing Units from year to year and print it. The difference must be calculated for the consecutive years such as 2008-2009, 2009-2010 etc. Finally, print the values in the ascending order.\n",
        "\n",
        "(b) (5 pts) For all the years, calculate the percentage of housing units which are vacant an occupied. Print the results in the following format:\n",
        "\n",
        "Year Vacant Housing Units Occupied Housing Units\n",
        "\n",
        "    2008  30%   70%                          \n",
        "\t2009 ----- -----\n",
        "\t2010 ----- -----\n",
        "    2011 ----- -----\n",
        "\t2012 ----- -----\n",
        "    2013 ----- -----\n",
        "\t2014 ----- -----\n",
        "  \n",
        "  \n",
        "\n",
        "(c) (10 pts) Calculate and print the valued and years in which the highest number of housing units were vacant and occupied. Print the results in the following format:  \n",
        "\n",
        "                              Year\tValue\n",
        "\tVacant Housing Units\t  -----   -----\n",
        "\tOccupied Housing Units\t-----   -----\n",
        "\n",
        "(d) (10 pts) Calculate the harmonic mean of the total housing units and print it out. You can find the information about harmonic mean here: https://ncalculators.com/statistics/harmonic-mean-calculator.htm"
      ]
    },
    {
      "cell_type": "code",
      "source": [
        "from google.colab import drive\n",
        "drive.mount('/content/drive')\n"
      ],
      "metadata": {
        "colab": {
          "base_uri": "https://localhost:8080/"
        },
        "id": "d8Buz_C_-TcL",
        "outputId": "67ddf9dd-e865-489f-c9fe-e244963ddd5b"
      },
      "execution_count": 2,
      "outputs": [
        {
          "output_type": "stream",
          "name": "stdout",
          "text": [
            "Mounted at /content/drive\n"
          ]
        }
      ]
    },
    {
      "cell_type": "code",
      "execution_count": 3,
      "metadata": {
        "id": "lqGYuHBhcsRH",
        "colab": {
          "base_uri": "https://localhost:8080/",
          "height": 363
        },
        "outputId": "6ee25821-a5fa-49f1-9ba9-b8d91b0d9600"
      },
      "outputs": [
        {
          "output_type": "execute_result",
          "data": {
            "text/plain": [
              "   year             title_field  value\n",
              "0  2014     Total Housing Units  49109\n",
              "1  2014    Vacant Housing Units   2814\n",
              "2  2014  Occupied Housing Units  46295\n",
              "3  2013     Total Housing Units  47888\n",
              "4  2013    Vacant Housing Units   4215\n",
              "5  2013  Occupied Housing Units  43673\n",
              "6  2012     Total Housing Units  45121\n",
              "7  2012    Vacant Housing Units   3013\n",
              "8  2012  Occupied Housing Units  42108\n",
              "9  2011     Total Housing Units  44917"
            ],
            "text/html": [
              "\n",
              "  <div id=\"df-e8c1a491-7bf9-4c64-b7fa-e206b8fc1c26\" class=\"colab-df-container\">\n",
              "    <div>\n",
              "<style scoped>\n",
              "    .dataframe tbody tr th:only-of-type {\n",
              "        vertical-align: middle;\n",
              "    }\n",
              "\n",
              "    .dataframe tbody tr th {\n",
              "        vertical-align: top;\n",
              "    }\n",
              "\n",
              "    .dataframe thead th {\n",
              "        text-align: right;\n",
              "    }\n",
              "</style>\n",
              "<table border=\"1\" class=\"dataframe\">\n",
              "  <thead>\n",
              "    <tr style=\"text-align: right;\">\n",
              "      <th></th>\n",
              "      <th>year</th>\n",
              "      <th>title_field</th>\n",
              "      <th>value</th>\n",
              "    </tr>\n",
              "  </thead>\n",
              "  <tbody>\n",
              "    <tr>\n",
              "      <th>0</th>\n",
              "      <td>2014</td>\n",
              "      <td>Total Housing Units</td>\n",
              "      <td>49109</td>\n",
              "    </tr>\n",
              "    <tr>\n",
              "      <th>1</th>\n",
              "      <td>2014</td>\n",
              "      <td>Vacant Housing Units</td>\n",
              "      <td>2814</td>\n",
              "    </tr>\n",
              "    <tr>\n",
              "      <th>2</th>\n",
              "      <td>2014</td>\n",
              "      <td>Occupied Housing Units</td>\n",
              "      <td>46295</td>\n",
              "    </tr>\n",
              "    <tr>\n",
              "      <th>3</th>\n",
              "      <td>2013</td>\n",
              "      <td>Total Housing Units</td>\n",
              "      <td>47888</td>\n",
              "    </tr>\n",
              "    <tr>\n",
              "      <th>4</th>\n",
              "      <td>2013</td>\n",
              "      <td>Vacant Housing Units</td>\n",
              "      <td>4215</td>\n",
              "    </tr>\n",
              "    <tr>\n",
              "      <th>5</th>\n",
              "      <td>2013</td>\n",
              "      <td>Occupied Housing Units</td>\n",
              "      <td>43673</td>\n",
              "    </tr>\n",
              "    <tr>\n",
              "      <th>6</th>\n",
              "      <td>2012</td>\n",
              "      <td>Total Housing Units</td>\n",
              "      <td>45121</td>\n",
              "    </tr>\n",
              "    <tr>\n",
              "      <th>7</th>\n",
              "      <td>2012</td>\n",
              "      <td>Vacant Housing Units</td>\n",
              "      <td>3013</td>\n",
              "    </tr>\n",
              "    <tr>\n",
              "      <th>8</th>\n",
              "      <td>2012</td>\n",
              "      <td>Occupied Housing Units</td>\n",
              "      <td>42108</td>\n",
              "    </tr>\n",
              "    <tr>\n",
              "      <th>9</th>\n",
              "      <td>2011</td>\n",
              "      <td>Total Housing Units</td>\n",
              "      <td>44917</td>\n",
              "    </tr>\n",
              "  </tbody>\n",
              "</table>\n",
              "</div>\n",
              "    <div class=\"colab-df-buttons\">\n",
              "\n",
              "  <div class=\"colab-df-container\">\n",
              "    <button class=\"colab-df-convert\" onclick=\"convertToInteractive('df-e8c1a491-7bf9-4c64-b7fa-e206b8fc1c26')\"\n",
              "            title=\"Convert this dataframe to an interactive table.\"\n",
              "            style=\"display:none;\">\n",
              "\n",
              "  <svg xmlns=\"http://www.w3.org/2000/svg\" height=\"24px\" viewBox=\"0 -960 960 960\">\n",
              "    <path d=\"M120-120v-720h720v720H120Zm60-500h600v-160H180v160Zm220 220h160v-160H400v160Zm0 220h160v-160H400v160ZM180-400h160v-160H180v160Zm440 0h160v-160H620v160ZM180-180h160v-160H180v160Zm440 0h160v-160H620v160Z\"/>\n",
              "  </svg>\n",
              "    </button>\n",
              "\n",
              "  <style>\n",
              "    .colab-df-container {\n",
              "      display:flex;\n",
              "      gap: 12px;\n",
              "    }\n",
              "\n",
              "    .colab-df-convert {\n",
              "      background-color: #E8F0FE;\n",
              "      border: none;\n",
              "      border-radius: 50%;\n",
              "      cursor: pointer;\n",
              "      display: none;\n",
              "      fill: #1967D2;\n",
              "      height: 32px;\n",
              "      padding: 0 0 0 0;\n",
              "      width: 32px;\n",
              "    }\n",
              "\n",
              "    .colab-df-convert:hover {\n",
              "      background-color: #E2EBFA;\n",
              "      box-shadow: 0px 1px 2px rgba(60, 64, 67, 0.3), 0px 1px 3px 1px rgba(60, 64, 67, 0.15);\n",
              "      fill: #174EA6;\n",
              "    }\n",
              "\n",
              "    .colab-df-buttons div {\n",
              "      margin-bottom: 4px;\n",
              "    }\n",
              "\n",
              "    [theme=dark] .colab-df-convert {\n",
              "      background-color: #3B4455;\n",
              "      fill: #D2E3FC;\n",
              "    }\n",
              "\n",
              "    [theme=dark] .colab-df-convert:hover {\n",
              "      background-color: #434B5C;\n",
              "      box-shadow: 0px 1px 3px 1px rgba(0, 0, 0, 0.15);\n",
              "      filter: drop-shadow(0px 1px 2px rgba(0, 0, 0, 0.3));\n",
              "      fill: #FFFFFF;\n",
              "    }\n",
              "  </style>\n",
              "\n",
              "    <script>\n",
              "      const buttonEl =\n",
              "        document.querySelector('#df-e8c1a491-7bf9-4c64-b7fa-e206b8fc1c26 button.colab-df-convert');\n",
              "      buttonEl.style.display =\n",
              "        google.colab.kernel.accessAllowed ? 'block' : 'none';\n",
              "\n",
              "      async function convertToInteractive(key) {\n",
              "        const element = document.querySelector('#df-e8c1a491-7bf9-4c64-b7fa-e206b8fc1c26');\n",
              "        const dataTable =\n",
              "          await google.colab.kernel.invokeFunction('convertToInteractive',\n",
              "                                                    [key], {});\n",
              "        if (!dataTable) return;\n",
              "\n",
              "        const docLinkHtml = 'Like what you see? Visit the ' +\n",
              "          '<a target=\"_blank\" href=https://colab.research.google.com/notebooks/data_table.ipynb>data table notebook</a>'\n",
              "          + ' to learn more about interactive tables.';\n",
              "        element.innerHTML = '';\n",
              "        dataTable['output_type'] = 'display_data';\n",
              "        await google.colab.output.renderOutput(dataTable, element);\n",
              "        const docLink = document.createElement('div');\n",
              "        docLink.innerHTML = docLinkHtml;\n",
              "        element.appendChild(docLink);\n",
              "      }\n",
              "    </script>\n",
              "  </div>\n",
              "\n",
              "\n",
              "<div id=\"df-7be3f5a3-c191-4cb2-bd38-97d4394a3c4c\">\n",
              "  <button class=\"colab-df-quickchart\" onclick=\"quickchart('df-7be3f5a3-c191-4cb2-bd38-97d4394a3c4c')\"\n",
              "            title=\"Suggest charts\"\n",
              "            style=\"display:none;\">\n",
              "\n",
              "<svg xmlns=\"http://www.w3.org/2000/svg\" height=\"24px\"viewBox=\"0 0 24 24\"\n",
              "     width=\"24px\">\n",
              "    <g>\n",
              "        <path d=\"M19 3H5c-1.1 0-2 .9-2 2v14c0 1.1.9 2 2 2h14c1.1 0 2-.9 2-2V5c0-1.1-.9-2-2-2zM9 17H7v-7h2v7zm4 0h-2V7h2v10zm4 0h-2v-4h2v4z\"/>\n",
              "    </g>\n",
              "</svg>\n",
              "  </button>\n",
              "\n",
              "<style>\n",
              "  .colab-df-quickchart {\n",
              "      --bg-color: #E8F0FE;\n",
              "      --fill-color: #1967D2;\n",
              "      --hover-bg-color: #E2EBFA;\n",
              "      --hover-fill-color: #174EA6;\n",
              "      --disabled-fill-color: #AAA;\n",
              "      --disabled-bg-color: #DDD;\n",
              "  }\n",
              "\n",
              "  [theme=dark] .colab-df-quickchart {\n",
              "      --bg-color: #3B4455;\n",
              "      --fill-color: #D2E3FC;\n",
              "      --hover-bg-color: #434B5C;\n",
              "      --hover-fill-color: #FFFFFF;\n",
              "      --disabled-bg-color: #3B4455;\n",
              "      --disabled-fill-color: #666;\n",
              "  }\n",
              "\n",
              "  .colab-df-quickchart {\n",
              "    background-color: var(--bg-color);\n",
              "    border: none;\n",
              "    border-radius: 50%;\n",
              "    cursor: pointer;\n",
              "    display: none;\n",
              "    fill: var(--fill-color);\n",
              "    height: 32px;\n",
              "    padding: 0;\n",
              "    width: 32px;\n",
              "  }\n",
              "\n",
              "  .colab-df-quickchart:hover {\n",
              "    background-color: var(--hover-bg-color);\n",
              "    box-shadow: 0 1px 2px rgba(60, 64, 67, 0.3), 0 1px 3px 1px rgba(60, 64, 67, 0.15);\n",
              "    fill: var(--button-hover-fill-color);\n",
              "  }\n",
              "\n",
              "  .colab-df-quickchart-complete:disabled,\n",
              "  .colab-df-quickchart-complete:disabled:hover {\n",
              "    background-color: var(--disabled-bg-color);\n",
              "    fill: var(--disabled-fill-color);\n",
              "    box-shadow: none;\n",
              "  }\n",
              "\n",
              "  .colab-df-spinner {\n",
              "    border: 2px solid var(--fill-color);\n",
              "    border-color: transparent;\n",
              "    border-bottom-color: var(--fill-color);\n",
              "    animation:\n",
              "      spin 1s steps(1) infinite;\n",
              "  }\n",
              "\n",
              "  @keyframes spin {\n",
              "    0% {\n",
              "      border-color: transparent;\n",
              "      border-bottom-color: var(--fill-color);\n",
              "      border-left-color: var(--fill-color);\n",
              "    }\n",
              "    20% {\n",
              "      border-color: transparent;\n",
              "      border-left-color: var(--fill-color);\n",
              "      border-top-color: var(--fill-color);\n",
              "    }\n",
              "    30% {\n",
              "      border-color: transparent;\n",
              "      border-left-color: var(--fill-color);\n",
              "      border-top-color: var(--fill-color);\n",
              "      border-right-color: var(--fill-color);\n",
              "    }\n",
              "    40% {\n",
              "      border-color: transparent;\n",
              "      border-right-color: var(--fill-color);\n",
              "      border-top-color: var(--fill-color);\n",
              "    }\n",
              "    60% {\n",
              "      border-color: transparent;\n",
              "      border-right-color: var(--fill-color);\n",
              "    }\n",
              "    80% {\n",
              "      border-color: transparent;\n",
              "      border-right-color: var(--fill-color);\n",
              "      border-bottom-color: var(--fill-color);\n",
              "    }\n",
              "    90% {\n",
              "      border-color: transparent;\n",
              "      border-bottom-color: var(--fill-color);\n",
              "    }\n",
              "  }\n",
              "</style>\n",
              "\n",
              "  <script>\n",
              "    async function quickchart(key) {\n",
              "      const quickchartButtonEl =\n",
              "        document.querySelector('#' + key + ' button');\n",
              "      quickchartButtonEl.disabled = true;  // To prevent multiple clicks.\n",
              "      quickchartButtonEl.classList.add('colab-df-spinner');\n",
              "      try {\n",
              "        const charts = await google.colab.kernel.invokeFunction(\n",
              "            'suggestCharts', [key], {});\n",
              "      } catch (error) {\n",
              "        console.error('Error during call to suggestCharts:', error);\n",
              "      }\n",
              "      quickchartButtonEl.classList.remove('colab-df-spinner');\n",
              "      quickchartButtonEl.classList.add('colab-df-quickchart-complete');\n",
              "    }\n",
              "    (() => {\n",
              "      let quickchartButtonEl =\n",
              "        document.querySelector('#df-7be3f5a3-c191-4cb2-bd38-97d4394a3c4c button');\n",
              "      quickchartButtonEl.style.display =\n",
              "        google.colab.kernel.accessAllowed ? 'block' : 'none';\n",
              "    })();\n",
              "  </script>\n",
              "</div>\n",
              "\n",
              "    </div>\n",
              "  </div>\n"
            ],
            "application/vnd.google.colaboratory.intrinsic+json": {
              "type": "dataframe",
              "variable_name": "df",
              "summary": "{\n  \"name\": \"df\",\n  \"rows\": 42,\n  \"fields\": [\n    {\n      \"column\": \"year\",\n      \"properties\": {\n        \"dtype\": \"number\",\n        \"std\": 2,\n        \"min\": 2008,\n        \"max\": 2014,\n        \"num_unique_values\": 7,\n        \"samples\": [\n          2014,\n          2013,\n          2009\n        ],\n        \"semantic_type\": \"\",\n        \"description\": \"\"\n      }\n    },\n    {\n      \"column\": \"title_field\",\n      \"properties\": {\n        \"dtype\": \"category\",\n        \"num_unique_values\": 6,\n        \"samples\": [\n          \"Total Housing Units\",\n          \"Vacant Housing Units\",\n          \"Median Gross Rent\"\n        ],\n        \"semantic_type\": \"\",\n        \"description\": \"\"\n      }\n    },\n    {\n      \"column\": \"value\",\n      \"properties\": {\n        \"dtype\": \"number\",\n        \"std\": 16977,\n        \"min\": 768,\n        \"max\": 49109,\n        \"num_unique_values\": 42,\n        \"samples\": [\n          20068,\n          3635,\n          42108\n        ],\n        \"semantic_type\": \"\",\n        \"description\": \"\"\n      }\n    }\n  ]\n}"
            }
          },
          "metadata": {},
          "execution_count": 3
        }
      ],
      "source": [
        "\n",
        "# Importing pandas and numpy to do the necessary computations\n",
        "\n",
        "import pandas as pd\n",
        "import numpy as np\n",
        "\n",
        "df = pd.read_csv('/content/drive/My Drive/INFO 5731 - Computational Methods/Week 3/Assignment1_denton_housing.csv')\n",
        "df.head(10)"
      ]
    },
    {
      "cell_type": "code",
      "source": [
        "# a)\n",
        "#  Calculating the difference in the number of Occupied Housing Units from year to year.\n",
        "\n",
        "Occupied_housing_units_df = df[df['title_field'] == 'Occupied Housing Units']\n",
        "Occupied_housing_units_df = Occupied_housing_units_df[['year', 'value']]\n",
        "#print(Occupied_housing_units_df)\n",
        "#value_diff = Occupied_housing_units_df['value'].diff()\n",
        "\n",
        "Occupied_housing_units_dict = Occupied_housing_units_df.set_index('year')['value'].to_dict()\n",
        "print(Occupied_housing_units_dict)\n",
        "\n",
        "# Sorting dictionary by year (keys) in descending order\n",
        "sorted_items = sorted(Occupied_housing_units_dict.items(), key=lambda x: x[0], reverse=True)\n",
        "\n",
        "# Calculating differences and creating the formatted output\n",
        "results = {}\n",
        "for i in range(len(sorted_items) - 1):\n",
        "    current_year, current_value = sorted_items[i]\n",
        "    next_year, next_value = sorted_items[i + 1]\n",
        "    difference = current_value - next_value\n",
        "    expression = f\"{current_year}-{next_year}\"\n",
        "    results[expression] = difference\n",
        "\n",
        "# Sorting the results dictionary by its values (in ascending order)\n",
        "sorted_results = dict(sorted(results.items(), key=lambda item: item[1]))\n",
        "\n",
        "# Displaying the results in ascending order of differences\n",
        "for expr, diff in sorted_results.items():\n",
        "    print(f\"{expr} = {diff}\")\n"
      ],
      "metadata": {
        "colab": {
          "base_uri": "https://localhost:8080/"
        },
        "id": "X6Lj8R5i7X-v",
        "outputId": "d3986752-2fff-4a08-d1bf-7a4b5db2981c"
      },
      "execution_count": 4,
      "outputs": [
        {
          "output_type": "stream",
          "name": "stdout",
          "text": [
            "{2014: 46295, 2013: 43673, 2012: 42108, 2011: 40704, 2010: 41007, 2009: 35916, 2008: 36711}\n",
            "2009-2008 = -795\n",
            "2011-2010 = -303\n",
            "2012-2011 = 1404\n",
            "2013-2012 = 1565\n",
            "2014-2013 = 2622\n",
            "2010-2009 = 5091\n"
          ]
        }
      ]
    },
    {
      "cell_type": "code",
      "source": [
        "# b)\n",
        "# For all the years, calculating the percentage of housing units which are vacant and occupied.\n",
        "\n",
        "# Grouping by 'year' and calculate the percentage of vacant and occupied housing units\n",
        "results = []\n",
        "years = sorted(df['year'].unique(), reverse=True)\n",
        "\n",
        "\n",
        "for year in years:\n",
        "    yearly_data = df[df['year'] == year]\n",
        "    vacant_units = yearly_data[yearly_data['title_field'] == 'Vacant Housing Units']['value'].sum()\n",
        "    occupied_units = yearly_data[yearly_data['title_field'] == 'Occupied Housing Units']['value'].sum()\n",
        "    total_units = yearly_data[yearly_data['title_field'] == 'Total Housing Units']['value'].sum()\n",
        "    #total_units = vacant_units + occupied_units\n",
        "\n",
        "    vacant_percentage = (vacant_units / total_units) * 100                                        # Calculating the vacant percentage\n",
        "    occupied_percentage = (occupied_units / total_units) * 100                                    # Calculating the occupied percentage\n",
        "\n",
        "    results.append([year, f'{vacant_percentage:.2f}%', f'{occupied_percentage:.2f}%'])\n",
        "\n",
        "# Print the results\n",
        "print(f\"{'Year':<6} | {'Vacant Housing Units':<21} | {'Occupied Housing Units':<23}\")\n",
        "for result in results:\n",
        "    print(f\"{result[0]:<6} | {result[1]:<21} | {result[2]:<23}\")\n"
      ],
      "metadata": {
        "colab": {
          "base_uri": "https://localhost:8080/"
        },
        "id": "94sCxuHnJOmK",
        "outputId": "f9a6047d-f25f-48f6-833e-c81f16589af6"
      },
      "execution_count": 5,
      "outputs": [
        {
          "output_type": "stream",
          "name": "stdout",
          "text": [
            "Year   | Vacant Housing Units  | Occupied Housing Units \n",
            "2014   | 5.73%                 | 94.27%                 \n",
            "2013   | 8.80%                 | 91.20%                 \n",
            "2012   | 6.68%                 | 93.32%                 \n",
            "2011   | 9.38%                 | 90.62%                 \n",
            "2010   | 8.14%                 | 91.86%                 \n",
            "2009   | 9.07%                 | 90.93%                 \n",
            "2008   | 10.88%                | 89.12%                 \n"
          ]
        }
      ]
    },
    {
      "cell_type": "code",
      "source": [
        "# c)\n",
        "# Finding the year and value for the highest number of vacant housing units\n",
        "vacant_max_row = df[df['title_field'] == 'Vacant Housing Units'].sort_values(by='value', ascending=False).iloc[0]\n",
        "vacant_max_year = vacant_max_row['year']\n",
        "vacant_max_value = vacant_max_row['value']\n",
        "\n",
        "# Finding the year and value for the highest number of occupied housing units\n",
        "occupied_max_row = df[df['title_field'] == 'Occupied Housing Units'].sort_values(by='value', ascending=False).iloc[0]\n",
        "occupied_max_year = occupied_max_row['year']\n",
        "occupied_max_value = occupied_max_row['value']\n",
        "\n",
        "print(f\"{'':<33} Year   Value\")\n",
        "print(f\"Vacant Housing Units      -----   {vacant_max_year:<5}  {vacant_max_value}\")\n",
        "print(f\"Occupied Housing Units    -----   {occupied_max_year:<5}  {occupied_max_value}\")\n"
      ],
      "metadata": {
        "colab": {
          "base_uri": "https://localhost:8080/"
        },
        "id": "mfkNy_lyMlXG",
        "outputId": "0ee09e4a-89f2-4e57-99cb-1cf4d7ca76cc"
      },
      "execution_count": 6,
      "outputs": [
        {
          "output_type": "stream",
          "name": "stdout",
          "text": [
            "                                  Year   Value\n",
            "Vacant Housing Units      -----   2008   4483\n",
            "Occupied Housing Units    -----   2014   46295\n"
          ]
        }
      ]
    },
    {
      "cell_type": "code",
      "source": [
        "# d)\n",
        "from scipy.stats import hmean\n",
        "\n",
        "# Filter the total housing units\n",
        "total_housing_units = df[df['title_field'] == 'Total Housing Units']['value']\n",
        "\n",
        "# Calculating the harmonic mean\n",
        "harmonic_mean_total_units = hmean(total_housing_units)\n",
        "\n",
        "print(f\"Harmonic Mean of Total Housing Units: {harmonic_mean_total_units:.2f}\")\n"
      ],
      "metadata": {
        "colab": {
          "base_uri": "https://localhost:8080/"
        },
        "id": "hmSIAxhQM2w0",
        "outputId": "c6c49fee-3190-465a-ffd8-e496e60b53af"
      },
      "execution_count": 7,
      "outputs": [
        {
          "output_type": "stream",
          "name": "stdout",
          "text": [
            "Harmonic Mean of Total Housing Units: 44398.29\n"
          ]
        }
      ]
    },
    {
      "cell_type": "markdown",
      "source": [
        "# Mandatory Question\n",
        "\n",
        "Provide your thoughts on the assignment. What did you find challenging, and what aspects did you enjoy? Your opinion on the provided time to complete the assignment. Share any suggestions for improvement. Your feedback will be valuable for enhancing the learning experience."
      ],
      "metadata": {
        "id": "q8BFCvWp32cf"
      }
    },
    {
      "cell_type": "markdown",
      "source": [
        "This assignment is challenging than earlier one. I found the string manipulations to be more challenging. The calculator one was fun. and the final on dataframe is something I have learnt in previous courses. It seems like what I have studied in my courses using pandas and numpy were useful here!"
      ],
      "metadata": {
        "id": "8K2N0aDbNPHy"
      }
    }
  ],
  "metadata": {
    "colab": {
      "provenance": [],
      "include_colab_link": true
    },
    "kernelspec": {
      "display_name": "Python 3 (ipykernel)",
      "language": "python",
      "name": "python3"
    },
    "language_info": {
      "codemirror_mode": {
        "name": "ipython",
        "version": 3
      },
      "file_extension": ".py",
      "mimetype": "text/x-python",
      "name": "python",
      "nbconvert_exporter": "python",
      "pygments_lexer": "ipython3",
      "version": "3.9.12"
    }
  },
  "nbformat": 4,
  "nbformat_minor": 0
}
